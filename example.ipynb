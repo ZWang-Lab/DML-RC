{
 "cells": [
  {
   "cell_type": "code",
   "execution_count": 16,
   "id": "3cb1f22b",
   "metadata": {
    "id": "6c9ce6a2"
   },
   "outputs": [],
   "source": [
    "import numpy as np\n",
    "import pandas as pd\n",
    "from math import sqrt\n",
    "import pickle\n",
    "import time\n",
    "import math\n",
    "from math import sin\n",
    "from math import cos\n",
    "from math import pi\n",
    "from minimax_tilting_sampler import TruncatedMVN # for truncated MVNs\n",
    "import generate_data\n",
    "import reg_dml\n",
    "import statsmodels.api as sm\n",
    "from doubleml import DoubleMLData\n",
    "from doubleml import DoubleMLPLR\n",
    "from sklearn.linear_model import LinearRegression\n",
    "from sklearn import linear_model\n",
    "from sklearn.ensemble import RandomForestRegressor\n",
    "from sklearn.base import clone\n",
    "from scipy import stats\n",
    "from doubleml.datasets import make_plr_CCDDHNR2018\n",
    "from sklearn.ensemble import RandomForestRegressor\n",
    "from sklearn.neural_network import MLPRegressor\n",
    "import multiprocessing as mp\n",
    "import warnings\n",
    "warnings.filterwarnings(\"ignore\")\n"
   ]
  },
  {
   "cell_type": "code",
   "execution_count": 17,
   "id": "5dfde045-4980-44a5-a91b-500046c2f4f9",
   "metadata": {},
   "outputs": [
    {
     "name": "stdout",
     "output_type": "stream",
     "text": [
      "0.9.0\n"
     ]
    }
   ],
   "source": [
    "import doubleml\n",
    "print(doubleml.__version__)"
   ]
  },
  {
   "cell_type": "code",
   "execution_count": 18,
   "id": "6628db2c",
   "metadata": {},
   "outputs": [],
   "source": [
    "#Initial the paramter\n",
    "mean_x=np.array([0.00968,0.737,0.019,0.00145,0.011])\n",
    "b_x=8\n",
    "b_w=np.array([0,0,0,0,22,0])\n",
    "\n",
    "sigma_x=np.diag([1, 1, 1, 1,1])\n",
    "sigma_ep=np.diag([1, 1, 1, 1,1])\n",
    "age_min=18\n",
    "age_max=91\n",
    "\n",
    "n1=350\n",
    "n2=1000\n",
    "\n",
    "b_0=1\n",
    "sd_xi=9 # sd for the error in main model"
   ]
  },
  {
   "cell_type": "code",
   "execution_count": 19,
   "id": "234f5159",
   "metadata": {},
   "outputs": [],
   "source": [
    "#Generate validation dataset (v) and main dataset (m)\n",
    "v=generate_data.ge_right(n1,age_min,age_max,mean_x,sigma_x,sigma_ep)\n",
    "m=generate_data.ge_main(n2,age_min,age_max,mean_x,b_0,b_x,b_w,sd_xi,sigma_x,sigma_ep,True)"
   ]
  },
  {
   "cell_type": "code",
   "execution_count": 20,
   "id": "3e5bfd4f",
   "metadata": {},
   "outputs": [],
   "source": [
    "#Use genearlized estimating equation (GEE) to estimate the parameters in measurement error model \n",
    "x_per_v=v[:,1]\n",
    "x_nm_v=v[:,1+mean_x.shape[0]]\n",
    "w1_per_v=v[:,0:mean_x.shape[0]]\n",
    "w1_per_v=np.delete(w1_per_v, 1, axis=1)\n",
    "w1_nm_v=v[:,(mean_x.shape[0]):(2*mean_x.shape[0])]\n",
    "w1_nm_v=np.delete(w1_nm_v, 1, axis=1)\n",
    "w2_v=v[:,[2*mean_x.shape[0],2*mean_x.shape[0]+1]]\n",
    "gee_results=reg_dml.data_me_gee(x_per_v,x_nm_v,w1_per_v,w1_nm_v,w2_v)\n",
    "gee_params=gee_results[0]\n",
    "gee_var=gee_results[1]"
   ]
  },
  {
   "cell_type": "code",
   "execution_count": 21,
   "id": "d8d6fec3",
   "metadata": {},
   "outputs": [
    {
     "name": "stdout",
     "output_type": "stream",
     "text": [
      "Total R square is 0.9998446471642629 \t R square for X is 0.00017816603648242933 \t R square for g is 1.0004760580753294\n",
      "ML_full_sample {'ml_l': {'d': [[{'alpha': np.float64(0.096)}, {'alpha': np.float64(0.096)}]]}, 'ml_m': {'d': [[{'alpha': np.float64(0.006)}, {'alpha': np.float64(0.006)}]]}, 'ml_g': {'d': [[{'alpha': np.float64(0.096)}, {'alpha': np.float64(0.096)}]]}}\n",
      "ML_full_sample {'ml_l': {'d': [[{'alpha': np.float64(0.096)}, {'alpha': np.float64(0.096)}]]}, 'ml_m': {'d': [[{'alpha': np.float64(0.026000000000000002)}, {'alpha': np.float64(0.026000000000000002)}]]}, 'ml_g': {'d': [[{'alpha': np.float64(0.096)}, {'alpha': np.float64(0.096)}]]}}\n",
      "ML_full_sample {'ml_l': {'d': [[{'alpha': np.float64(0.046)}, {'alpha': np.float64(0.046)}]]}, 'ml_m': {'d': [[{'alpha': np.float64(0.096)}, {'alpha': np.float64(0.096)}]]}, 'ml_g': {'d': [[{'alpha': np.float64(0.096)}, {'alpha': np.float64(0.096)}]]}}\n"
     ]
    }
   ],
   "source": [
    "#estimate the causal effect in main study\n",
    "y_m=m[0]\n",
    "w1_nm_m=m[1][:,(mean_x.shape[0]):(2*mean_x.shape[0])]\n",
    "w1_nm_m=np.delete(w1_nm_m, 1, axis=1)\n",
    "x_nm_m=m[1][:,1+mean_x.shape[0]]\n",
    "w2_m=m[1][:,[2*mean_x.shape[0],2*mean_x.shape[0]+1]]\n",
    "(x_pred_per,w1_pred_per,xw_nm_m)=reg_dml.gee_predict(x_nm_m,w1_nm_m,w2_m,gee_params)\n",
    "w1_pred_per_w2=np.concatenate((w1_pred_per,w2_m),axis=1)\n",
    "w1_x_pred_per=np.concatenate((x_pred_per.reshape(-1,1),w1_pred_per,w2_m),axis=1)\n",
    "w1_x_pred_per_add_cons=sm.add_constant(w1_x_pred_per)\n",
    "    \n",
    "nm_xd=m[1][:,(mean_x.shape[0]):(2*mean_x.shape[0])]\n",
    "nm_xd=np.array(sm.add_constant(nm_xd))\n",
    "print(\"Total R square is\",m[3],\"\\t\",\"R square for X is\",m[2],\"\\t\",\"R square for g is\",m[4])\n",
    "\n",
    "w_per=m[1][:,np.concatenate([range(mean_x.shape[0]),[2*mean_x.shape[0]],[2*mean_x.shape[0]+1]],axis=0)]\n",
    "w_per=np.delete(w_per, 1, axis=1)\n",
    "x_per=m[1][:,1]\n",
    "w_nm=np.concatenate([w1_nm_m,w2_m],axis=1)\n",
    "x_nm=x_nm_m\n",
    "data_per=list()\n",
    "data_per.append((w_per,y_m,x_per))\n",
    "data_nm=list()\n",
    "data_nm.append((w_nm,y_m,x_nm_m))\n",
    "\n",
    "data_pred = (w1_pred_per_w2,y_m,x_pred_per)\n",
    "\n",
    "\n",
    "dml_lasso=reg_dml.dml_lasso(data_pred,b_x, True,True, w1_x_pred_per_add_cons, xw_nm_m,gee_var,gee_params)       \n",
    "per_dml_lasso=reg_dml.dml_lasso(data_per[0],b_x, False,True, w1_x_pred_per_add_cons, xw_nm_m,gee_var,gee_params)  \n",
    "nm_dml_lasso=reg_dml.dml_lasso(data_nm[0],b_x, False,True, w1_x_pred_per_add_cons, xw_nm_m,gee_var,gee_params)\n",
    "results=np.concatenate((dml_lasso,per_dml_lasso, nm_dml_lasso),axis=None)    "
   ]
  },
  {
   "cell_type": "code",
   "execution_count": 22,
   "id": "8ff4b844-3fa0-460d-a9f5-964b5cd8e286",
   "metadata": {},
   "outputs": [
    {
     "name": "stdout",
     "output_type": "stream",
     "text": [
      "The bias of DML-RC is -0.48757669026867045 with standard error is 0.8452148430776865\n",
      "The bias of DML-True is -0.18866176723728945 with standard error is 0.35321485645661344\n",
      "The bias of uncorrected DML is -4.926471082931898 with standard error is 0.349276090875872\n"
     ]
    }
   ],
   "source": [
    "#print the results\n",
    "print(\"The bias of DML-RC is\",dml_lasso[0],\"with standard error is\", dml_lasso[1])\n",
    "print(\"The bias of DML-True is\",per_dml_lasso[0],\"with standard error is\", per_dml_lasso[1])\n",
    "print(\"The bias of uncorrected DML is\",nm_dml_lasso[0],\"with standard error is\", nm_dml_lasso[1])"
   ]
  },
  {
   "cell_type": "code",
   "execution_count": null,
   "id": "5eca9e8d-7828-4a37-8e8b-e37feaa05206",
   "metadata": {},
   "outputs": [],
   "source": []
  }
 ],
 "metadata": {
  "colab": {
   "machine_shape": "hm",
   "provenance": []
  },
  "gpuClass": "standard",
  "kernelspec": {
   "display_name": "Python 3 (ipykernel)",
   "language": "python",
   "name": "python3"
  },
  "language_info": {
   "codemirror_mode": {
    "name": "ipython",
    "version": 3
   },
   "file_extension": ".py",
   "mimetype": "text/x-python",
   "name": "python",
   "nbconvert_exporter": "python",
   "pygments_lexer": "ipython3",
   "version": "3.12.5"
  },
  "toc": {
   "base_numbering": 1,
   "nav_menu": {},
   "number_sections": false,
   "sideBar": true,
   "skip_h1_title": false,
   "title_cell": "Table of Contents",
   "title_sidebar": "Contents",
   "toc_cell": false,
   "toc_position": {},
   "toc_section_display": true,
   "toc_window_display": false
  }
 },
 "nbformat": 4,
 "nbformat_minor": 5
}
